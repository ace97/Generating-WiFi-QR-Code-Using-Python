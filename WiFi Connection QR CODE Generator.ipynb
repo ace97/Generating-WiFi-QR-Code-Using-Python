{
 "cells": [
  {
   "cell_type": "code",
   "execution_count": 1,
   "id": "58c085b4",
   "metadata": {},
   "outputs": [],
   "source": [
    "# !pip install wifi-qrcode-generator"
   ]
  },
  {
   "cell_type": "code",
   "execution_count": 2,
   "id": "7f0cd718",
   "metadata": {},
   "outputs": [],
   "source": [
    "# Import module\n",
    "import wifi_qrcode_generator as qr\n",
    "import subprocess"
   ]
  },
  {
   "cell_type": "code",
   "execution_count": 3,
   "id": "5eb4448a",
   "metadata": {},
   "outputs": [
    {
     "name": "stdout",
     "output_type": "stream",
     "text": [
      "User name : ASUS_50\n",
      "Password : golden_3676\n"
     ]
    },
    {
     "data": {
      "image/png": "[encoded data removed]",
      "text/plain": [
       "<PIL.Image.Image image mode=1 size=410x410 at 0x1E78068CF40>"
      ]
     },
     "execution_count": 3,
     "metadata": {},
     "output_type": "execute_result"
    }
   ],
   "source": [
    "# try catch block begins\n",
    "# try block\n",
    "try:\n",
    "\n",
    "    # traverse the profile\n",
    "    Id = subprocess.check_output(['netsh', 'wlan', 'show', 'interfaces']).decode('utf-8').split('\\n')\n",
    "    \n",
    "    id_results = str([b.split(\":\")[1][1:-1] for b in Id if \"Profile\" in b][1][0:-1])\n",
    "    \n",
    "    # traverse the password\n",
    "    password = subprocess.check_output(\n",
    "        ['netsh', 'wlan', 'show', 'profiles',\n",
    "        id_results, 'key=clear']).decode('utf-8').split('\\n')\n",
    "\n",
    "    pass_results=str([b.split(\":\")[1][1:-1] for b in password if \"Key Content\" in b][0])\n",
    "    print(\"User name :\", id_results)\n",
    "    print(\"Password :\", pass_results)\n",
    "    \n",
    "except:\n",
    "    print(\"something wrong\")\n",
    "\n",
    "# generate Qr code\n",
    "qr.wifi_qrcode(id_results, False, 'WPA', pass_results)\n"
   ]
  },
  {
   "cell_type": "markdown",
   "id": "19f096d3",
   "metadata": {},
   "source": [
    "#### Source\n",
    "https://www.geeksforgeeks.org/wi-fi-qr-code-generator-using-python/"
   ]
  }
 ],
 "metadata": {
  "kernelspec": {
   "display_name": "Python 3 (ipykernel)",
   "language": "python",
   "name": "python3"
  },
  "language_info": {
   "codemirror_mode": {
    "name": "ipython",
    "version": 3
   },
   "file_extension": ".py",
   "mimetype": "text/x-python",
   "name": "python",
   "nbconvert_exporter": "python",
   "pygments_lexer": "ipython3",
   "version": "3.9.7"
  }
 },
 "nbformat": 4,
 "nbformat_minor": 5
}
